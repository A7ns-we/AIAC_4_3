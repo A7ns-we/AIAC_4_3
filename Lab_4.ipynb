{
  "nbformat": 4,
  "nbformat_minor": 0,
  "metadata": {
    "colab": {
      "provenance": [],
      "authorship_tag": "ABX9TyN4jH5HgQjZPQcaCbip0fS9",
      "include_colab_link": true
    },
    "kernelspec": {
      "name": "python3",
      "display_name": "Python 3"
    },
    "language_info": {
      "name": "python"
    }
  },
  "cells": [
    {
      "cell_type": "markdown",
      "metadata": {
        "id": "view-in-github",
        "colab_type": "text"
      },
      "source": [
        "<a href=\"https://colab.research.google.com/github/A7ns-we/AIAC_4_3/blob/main/Lab_4.ipynb\" target=\"_parent\"><img src=\"https://colab.research.google.com/assets/colab-badge.svg\" alt=\"Open In Colab\"/></a>"
      ]
    },
    {
      "cell_type": "markdown",
      "source": [
        "Task Description#1\n",
        "●\tZero-shot: Prompt AI to write a function that checks whether a given year is a leap year.\n",
        "Expected Output#1\n",
        "●\tAI-generated function with no examples provided\n"
      ],
      "metadata": {
        "id": "Y7dVv21NqRjk"
      }
    },
    {
      "cell_type": "code",
      "source": [
        "def is_leap_year(year):\n",
        "    \"\"\"Checks if a given year is a leap year.\"\"\"\n",
        "    return (year % 4 == 0 and year % 100 != 0) or (year % 400 == 0)\n",
        "\n",
        "# Get input from the console\n",
        "year = int(input(\"Enter a year: \"))\n",
        "\n",
        "# Check and print the result\n",
        "if is_leap_year(year):\n",
        "    print(f\"{year} is a leap year.\")\n",
        "else:\n",
        "    print(f\"{year} is not a leap year.\")"
      ],
      "metadata": {
        "colab": {
          "base_uri": "https://localhost:8080/"
        },
        "id": "qqHlZi5XrExC",
        "outputId": "24d37711-9e5f-46a5-a1e4-6e096d81ff4e"
      },
      "execution_count": 4,
      "outputs": [
        {
          "output_type": "stream",
          "name": "stdout",
          "text": [
            "Enter a year: 2024\n",
            "2024 is a leap year.\n"
          ]
        }
      ]
    },
    {
      "cell_type": "markdown",
      "source": [
        "Task Description#2\n",
        "●\tOne-shot: Give one input-output example to guide AI in writing a function that converts centimeters to inches.\n",
        "Expected Output#2\n",
        "●\tFunction with correct conversion logic\n"
      ],
      "metadata": {
        "id": "ABknlEorrV53"
      }
    },
    {
      "cell_type": "code",
      "source": [
        "def cm_to_inches(cm):\n",
        "  \"\"\"Converts centimeters to inches.\"\"\"\n",
        "  return cm * 0.393701\n",
        "\n",
        "# Get input from the console\n",
        "cm_input = float(input(\"Enter length in centimeters: \"))\n",
        "inches_output = cm_to_inches(cm_input)\n",
        "print(f\"{cm_input} cms is {inches_output:.1f} inches\")"
      ],
      "metadata": {
        "colab": {
          "base_uri": "https://localhost:8080/"
        },
        "id": "b3EC2BJyrqBv",
        "outputId": "3674857a-014a-45e1-b2e5-44e94d29faea"
      },
      "execution_count": 7,
      "outputs": [
        {
          "output_type": "stream",
          "name": "stdout",
          "text": [
            "Enter length in centimeters: 10\n",
            "10.0 cms is 3.9 inches\n"
          ]
        }
      ]
    },
    {
      "cell_type": "markdown",
      "source": [
        "Task Description#3\n",
        "●\tFew-shot: Provide 2–3 examples to generate a function that formats full names as “Last, First”.\n",
        "Expected Output#3\n",
        "●\tWell-structured function respecting the examples\n"
      ],
      "metadata": {
        "id": "o0BidGmLsAcz"
      }
    },
    {
      "cell_type": "code",
      "source": [
        "def split_name(full_name):\n",
        "  \"\"\"Splits a full name into first and last names.\"\"\"\n",
        "  names = full_name.split()\n",
        "  if len(names) > 1:\n",
        "    first_name = names[0]\n",
        "    last_name = names[-1]\n",
        "    return first_name, last_name\n",
        "  elif len(names) == 1:\n",
        "    return names[0], \"\"\n",
        "  else:\n",
        "    return \"\", \"\"\n",
        "\n",
        "# Get input from the console\n",
        "full_name_input = input(\"Enter a full name: \")\n",
        "\n",
        "# Split the name and print the result\n",
        "first, last = split_name(full_name_input)\n",
        "\n",
        "if first or last:\n",
        "  print(f\"first name: {first}\")\n",
        "  print(f\"last name: {last}\")\n",
        "else:\n",
        "  print(\"Invalid input: Please enter a full name.\")"
      ],
      "metadata": {
        "colab": {
          "base_uri": "https://localhost:8080/"
        },
        "id": "WgjMgV30sVcE",
        "outputId": "87e10f74-146c-4d6e-9803-3b7a73e49e66"
      },
      "execution_count": 8,
      "outputs": [
        {
          "output_type": "stream",
          "name": "stdout",
          "text": [
            "Enter a full name: magnus carlsen\n",
            "first name: magnus\n",
            "last name: carlsen\n"
          ]
        }
      ]
    },
    {
      "cell_type": "markdown",
      "source": [
        "Task Description#4\n",
        "●\tCompare zero-shot and few-shot prompts for writing a function that counts the number of vowels in a string.\n",
        "Expected Output#4\n",
        "●\tFunctional output and comparative reflection -\n",
        "Zero shot prompt"
      ],
      "metadata": {
        "id": "MqeagC7_som4"
      }
    },
    {
      "cell_type": "code",
      "source": [
        "def count_vowels(text):\n",
        "  \"\"\"Counts the number of vowels in a string.\"\"\"\n",
        "  vowels = \"aeiouAEIOU\"\n",
        "  vowel_count = 0\n",
        "  for char in text:\n",
        "    if char in vowels:\n",
        "      vowel_count += 1\n",
        "  return vowel_count\n",
        "\n",
        "# Get input from the console\n",
        "input_string = input(\"Enter a string: \")\n",
        "\n",
        "# Count vowels and print the result\n",
        "num_vowels = count_vowels(input_string)\n",
        "print(f\"The number of vowels in the string is: {num_vowels}\")"
      ],
      "metadata": {
        "colab": {
          "base_uri": "https://localhost:8080/"
        },
        "id": "rQOnRvN8s42J",
        "outputId": "1b63c884-8d51-4802-ff13-04c10d77f62b"
      },
      "execution_count": 9,
      "outputs": [
        {
          "output_type": "stream",
          "name": "stdout",
          "text": [
            "Enter a string: saturday\n",
            "The number of vowels in the string is: 3\n"
          ]
        }
      ]
    },
    {
      "cell_type": "markdown",
      "source": [
        "Task Description#4\n",
        "●\tCompare zero-shot and few-shot prompts for writing a function that counts the number of vowels in a string.\n",
        "Expected Output#4\n",
        "●\tFunctional output and comparative reflection - Few shot prompts\n"
      ],
      "metadata": {
        "id": "36tNGBn0t_Hv"
      }
    },
    {
      "cell_type": "code",
      "source": [
        "def count_vowels(text):\n",
        "  \"\"\"Counts the number of vowels in a string.\"\"\"\n",
        "  vowels = \"aeiouAEIOU\"\n",
        "  vowel_count = 0\n",
        "  for char in text:\n",
        "    if char in vowels:\n",
        "      vowel_count += 1\n",
        "  return vowel_count\n",
        "\n",
        "# Get input from the console\n",
        "input_string = input(\"Enter a string: \")\n",
        "\n",
        "# Count vowels and print the result with example format\n",
        "num_vowels = count_vowels(input_string)\n",
        "print(f\"{input_string} has {num_vowels} vowels\")"
      ],
      "metadata": {
        "colab": {
          "base_uri": "https://localhost:8080/"
        },
        "id": "VkCSTdZyuECR",
        "outputId": "aef7bfa4-648a-455b-91b7-807ac51ffdac"
      },
      "execution_count": 10,
      "outputs": [
        {
          "output_type": "stream",
          "name": "stdout",
          "text": [
            "Enter a string: monday\n",
            "monday has 2 vowels\n"
          ]
        }
      ]
    },
    {
      "cell_type": "markdown",
      "source": [
        "Task Description#5\n",
        "●\tUse few-shot prompting to generate a function that reads a .txt file and returns the number of lines.\n",
        "Expected Output#5\n",
        "●\tWorking file-processing function with AI-guided logic\n",
        "\n"
      ],
      "metadata": {
        "id": "BeioFJsXuYbq"
      }
    },
    {
      "cell_type": "code",
      "source": [
        "def count_lines_in_file(filename):\n",
        "  \"\"\"Reads a text file and returns the number of lines.\"\"\"\n",
        "  try:\n",
        "    with open(filename, 'r') as f:\n",
        "      lines = f.readlines()\n",
        "      return len(lines)\n",
        "  except FileNotFoundError:\n",
        "    return f\"Error: File '{filename}' not found.\"\n",
        "\n",
        "# Specify the filename\n",
        "filename = \"hw.txt\"\n",
        "\n",
        "# Count the lines and print the result\n",
        "num_lines = count_lines_in_file(filename)\n",
        "\n",
        "if isinstance(num_lines, int):\n",
        "  print(f\"file has {num_lines} lines in it\")\n",
        "else:\n",
        "  print(num_lines) # Print the error message if file not found"
      ],
      "metadata": {
        "colab": {
          "base_uri": "https://localhost:8080/"
        },
        "id": "e-tmlFN6vhJe",
        "outputId": "7fd56942-c328-4a89-b9f8-75a4f84cb81e"
      },
      "execution_count": 3,
      "outputs": [
        {
          "output_type": "stream",
          "name": "stdout",
          "text": [
            "file has 5 lines in it\n"
          ]
        }
      ]
    }
  ]
}